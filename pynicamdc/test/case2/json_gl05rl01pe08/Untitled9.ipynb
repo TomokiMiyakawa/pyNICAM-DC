{
 "cells": [
  {
   "cell_type": "code",
   "execution_count": null,
   "id": "855b4722-2f9e-4df0-bfa6-b6adc62a2068",
   "metadata": {},
   "outputs": [],
   "source": []
  }
 ],
 "metadata": {
  "kernelspec": {
   "display_name": "Python (jax_mpi)",
   "language": "python",
   "name": "jax_mpi"
  },
  "language_info": {
   "codemirror_mode": {
    "name": "ipython",
    "version": 3
   },
   "file_extension": ".py",
   "mimetype": "text/x-python",
   "name": "python",
   "nbconvert_exporter": "python",
   "pygments_lexer": "ipython3",
   "version": "3.11.11"
  }
 },
 "nbformat": 4,
 "nbformat_minor": 5
}
